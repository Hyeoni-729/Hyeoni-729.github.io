{
  "nbformat": 4,
  "nbformat_minor": 0,
  "metadata": {
    "colab": {
      "provenance": [],
      "authorship_tag": "ABX9TyNkokESdP5rmu0BMgg6JVQZ",
      "include_colab_link": true
    },
    "kernelspec": {
      "name": "python3",
      "display_name": "Python 3"
    },
    "language_info": {
      "name": "python"
    }
  },
  "cells": [
    {
      "cell_type": "markdown",
      "metadata": {
        "id": "view-in-github",
        "colab_type": "text"
      },
      "source": [
        "<a href=\"https://colab.research.google.com/github/Hyeoni-729/Hyeoni-729.github.io/blob/master/20250512/20250512quiz_python.ipynb\" target=\"_parent\"><img src=\"https://colab.research.google.com/assets/colab-badge.svg\" alt=\"Open In Colab\"/></a>"
      ]
    },
    {
      "cell_type": "code",
      "execution_count": 1,
      "metadata": {
        "colab": {
          "base_uri": "https://localhost:8080/"
        },
        "id": "Q9uwsoFykSqS",
        "outputId": "f11e7b24-3d05-4e88-9070-daec66bbaacc"
      },
      "outputs": [
        {
          "output_type": "execute_result",
          "data": {
            "text/plain": [
              "8"
            ]
          },
          "metadata": {},
          "execution_count": 1
        }
      ],
      "source": [
        "# 문제1: 두 수를 더하는 함수를 만드세요.\n",
        "def solution(a, b):\n",
        "    c = a + b\n",
        "    return c\n",
        "\n",
        "solution(5, 3)  # 결과: 8"
      ]
    },
    {
      "cell_type": "code",
      "source": [
        "# 문제2: 두 수를 곱하는 함수를 만드세요.\n",
        "def solution(a, b):\n",
        "    c = a * b\n",
        "    return c\n",
        "\n",
        "solution(4, 7)  # 결과: 28"
      ],
      "metadata": {
        "colab": {
          "base_uri": "https://localhost:8080/"
        },
        "id": "9cuCFlM7khE9",
        "outputId": "9f3052ef-1053-4b9e-8d2d-f82c70601495"
      },
      "execution_count": 2,
      "outputs": [
        {
          "output_type": "execute_result",
          "data": {
            "text/plain": [
              "28"
            ]
          },
          "metadata": {},
          "execution_count": 2
        }
      ]
    },
    {
      "cell_type": "code",
      "source": [
        "# 문제3: 리스트의 모든 숫자를 더하는 함수를 만드세요.\n",
        "def solution(numbers):\n",
        "    a = 0\n",
        "    for i in numbers:\n",
        "        a += i\n",
        "    return a\n",
        "\n",
        "solution([1, 2, 3, 4, 5])  # 결과: 15"
      ],
      "metadata": {
        "colab": {
          "base_uri": "https://localhost:8080/"
        },
        "id": "sDZYCgmYkiIs",
        "outputId": "ac3992cb-52cb-4794-eca8-4feeaad79707"
      },
      "execution_count": 3,
      "outputs": [
        {
          "output_type": "execute_result",
          "data": {
            "text/plain": [
              "15"
            ]
          },
          "metadata": {},
          "execution_count": 3
        }
      ]
    },
    {
      "cell_type": "code",
      "source": [
        "# 문제4: 리스트의 평균값을 계산하는 함수를 만드세요.\n",
        "def solution(numbers):\n",
        "    for i in numbers:\n",
        "        a = sum(numbers) / len(numbers)\n",
        "    return a\n",
        "\n",
        "solution([10, 20, 30, 40])  # 결과: 25.0"
      ],
      "metadata": {
        "colab": {
          "base_uri": "https://localhost:8080/"
        },
        "id": "IAJ23vHxkjIb",
        "outputId": "352be489-c4ca-4d1c-babf-3fa0dcad911a"
      },
      "execution_count": 6,
      "outputs": [
        {
          "output_type": "execute_result",
          "data": {
            "text/plain": [
              "25.0"
            ]
          },
          "metadata": {},
          "execution_count": 6
        }
      ]
    },
    {
      "cell_type": "code",
      "source": [
        "# 문제5: 문자열의 길이를 반환하는 함수를 만드세요.\n",
        "def solution(text):\n",
        "    a = len(text)\n",
        "    return a\n",
        "\n",
        "solution(\"파이썬\")  # 결과: 3"
      ],
      "metadata": {
        "colab": {
          "base_uri": "https://localhost:8080/"
        },
        "id": "b8_HZV0XkkaP",
        "outputId": "f6351fae-7707-455b-ae1c-74bfffeaf693"
      },
      "execution_count": 4,
      "outputs": [
        {
          "output_type": "execute_result",
          "data": {
            "text/plain": [
              "3"
            ]
          },
          "metadata": {},
          "execution_count": 4
        }
      ]
    },
    {
      "cell_type": "code",
      "source": [
        "# 문제6: 리스트에서 가장 큰 수를 찾는 함수를 만드세요.\n",
        "def solution(numbers):\n",
        "    a = max(numbers)\n",
        "    return a\n",
        "\n",
        "solution([7, 12, 3, 8, 4])  # 결과: 12"
      ],
      "metadata": {
        "colab": {
          "base_uri": "https://localhost:8080/"
        },
        "id": "FnqEjYD6kmVo",
        "outputId": "104c23a9-7589-4e9e-edc7-3862bee33739"
      },
      "execution_count": 7,
      "outputs": [
        {
          "output_type": "execute_result",
          "data": {
            "text/plain": [
              "12"
            ]
          },
          "metadata": {},
          "execution_count": 7
        }
      ]
    },
    {
      "cell_type": "code",
      "source": [
        "# 문제7: 리스트에서 가장 작은 수를 찾는 함수를 만드세요.\n",
        "def solution(numbers):\n",
        "    a = min(numbers)\n",
        "    return a\n",
        "\n",
        "solution([7, 12, 3, 8, 4])  # 결과: 3"
      ],
      "metadata": {
        "colab": {
          "base_uri": "https://localhost:8080/"
        },
        "id": "eFVFwMJ_kmo6",
        "outputId": "bc428119-0247-44a5-cfb0-231473397914"
      },
      "execution_count": 8,
      "outputs": [
        {
          "output_type": "execute_result",
          "data": {
            "text/plain": [
              "3"
            ]
          },
          "metadata": {},
          "execution_count": 8
        }
      ]
    },
    {
      "cell_type": "code",
      "source": [
        "# 문제8: 문자열을 n번 반복하는 함수를 만드세요.\n",
        "def solution(text, n):\n",
        "    for i in range(n):\n",
        "        a = text * n\n",
        "    return a\n",
        "\n",
        "solution(\"안녕\", 3)  # 결과: \"안녕안녕안녕\""
      ],
      "metadata": {
        "colab": {
          "base_uri": "https://localhost:8080/",
          "height": 35
        },
        "id": "Vbzt8c9skn80",
        "outputId": "553c9e90-acb4-4d5e-fd2f-7c984c8833ce"
      },
      "execution_count": 9,
      "outputs": [
        {
          "output_type": "execute_result",
          "data": {
            "text/plain": [
              "'안녕안녕안녕'"
            ],
            "application/vnd.google.colaboratory.intrinsic+json": {
              "type": "string"
            }
          },
          "metadata": {},
          "execution_count": 9
        }
      ]
    },
    {
      "cell_type": "code",
      "source": [
        "# 문제9: 주어진 숫자가 짝수인지 확인하는 함수를 만드세요. (짝수면 True, 홀수면 False 반환)\n",
        "def solution(number):\n",
        "    if number % 2 == 0:\n",
        "        return True\n",
        "    else:\n",
        "        return False\n",
        "\n",
        "solution(6)  # 결과: True\n",
        "solution(9)  # 결과: False"
      ],
      "metadata": {
        "colab": {
          "base_uri": "https://localhost:8080/"
        },
        "id": "EZf14piGkpOu",
        "outputId": "17a72670-2b60-411a-95f1-29530ae63047"
      },
      "execution_count": 11,
      "outputs": [
        {
          "output_type": "execute_result",
          "data": {
            "text/plain": [
              "True"
            ]
          },
          "metadata": {},
          "execution_count": 11
        }
      ]
    }
  ]
}